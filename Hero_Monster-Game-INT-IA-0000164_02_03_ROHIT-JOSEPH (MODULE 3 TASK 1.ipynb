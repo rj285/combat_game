{
 "cells": [
  {
   "cell_type": "markdown",
   "id": "1f93377f-69ab-46bc-bab9-68b2d7854504",
   "metadata": {},
   "source": [
    "COMBAT GAME - HERO vs MONSTERS\n"
   ]
  },
  {
   "cell_type": "markdown",
   "id": "1d0269cf-78ea-43a1-add1-98ea6d549d94",
   "metadata": {},
   "source": [
    "Hero -> Base class (Parent class)"
   ]
  },
  {
   "cell_type": "markdown",
   "id": "2af3567e-abea-4a64-b9b7-29fca4235936",
   "metadata": {},
   "source": [
    "->imports the random function from the random module to generate random values"
   ]
  },
  {
   "cell_type": "code",
   "execution_count": 5,
   "id": "8a93b35b-76ec-4334-9a20-e11ea5b837d3",
   "metadata": {},
   "outputs": [],
   "source": [
    "from random import random as rm\n",
    "\n",
    "#Base class \n",
    "class Hero:\n",
    "    def __init__(self, name, power_level, health_points): #constructor\n",
    "        #Initializing hero's attributes\n",
    "        self.nm = name \n",
    "        self.pl = power_level\n",
    "        self.hp = health_points\n",
    "        \n",
    "#Method that returns punch power - 2 times the power level  \n",
    "    def punch_power(self):\n",
    "         return self.pl * 2\n",
    "        \n",
    "#Method for Hero vs Monsters combat        \n",
    "    def combat(self,all_monsters):\n",
    "        \n",
    "        #isinstance - checks the parameters is a list of monsters\n",
    "        if not isinstance(all_monsters, list):\n",
    "            #if the specified object is not the specified type it prints the msg and returns false\n",
    "            print(f\"\\n'{self.nm}' only fights monsters!\") \n",
    "            return False\n",
    "            \n",
    "        #iterate through all_monsters and pass each monster as a parameter to simulate combat    \n",
    "        for monster in all_monsters:\n",
    "            # print(monster) #print(monster) - is used to checking the monster parameters passed correctly \n",
    "            print(f\"\\n'{self.nm}' is now fighting '{monster.nm}'!\")\n",
    "            \n",
    "            #simulating the fight between hero and monster \n",
    "            while True:\n",
    "                #the hero attacks first, calling the attack method from the SuperHero class and passing monster parameters\n",
    "                self.attack(monster)  \n",
    "                if monster.hp <= 0: #checks the monster health is 0 and prints the msg then the program breaks \n",
    "                    print(f\"\\n======'{self.nm}' WINS!!! '{monster.nm}' LOSES THE COMBAT!!!======\")\n",
    "                    break #when the above condition is met it will break the loop\n",
    "                    \n",
    "                #the monster attacks second, calling the attack method from Monster class and passing Hero's parameter\n",
    "                monster.attack(self)\n",
    "                if rm() > 0.5: #during the combat hero heals with a random chance, using the random module to perform this \n",
    "                    print(f\"{self.defence()}\") # defence method called to heal the hero\n",
    "                elif self.hp <= 0: #checks the hero health is 0 and prints the msg then the program breaks and returns false\n",
    "                    print(f\"\\n======'{monster.nm}' WINS!!! '{self.nm}' LOSES THE COMBAT!!!======\")\n",
    "                    return False #hero loses returns false\n",
    "        return True #if in the fight hero wins returns true\n",
    "            "
   ]
  },
  {
   "cell_type": "markdown",
   "id": "6047b479-83fd-4dbf-8f3a-73644d107751",
   "metadata": {},
   "source": [
    "SuperHero -> Child class, with Hero class properties"
   ]
  },
  {
   "cell_type": "code",
   "execution_count": 8,
   "id": "2af39a60-9dd9-4186-b394-a438dc957c52",
   "metadata": {},
   "outputs": [],
   "source": [
    "#child class that extends the base class(parent class), inherits all the attributes \n",
    "class SuperHero(Hero):\n",
    "    def __init__(self, name, power_level, health_points, skill, skill_power, healing): #constructor\n",
    "        #Initializing SuperHero attributes\n",
    "        super().__init__(name, power_level, health_points) #giving access to all properties from the Hero class () to \n",
    "        #special attributes of the SuperHero class\n",
    "        self.sk = skill \n",
    "        self.sp = skill_power\n",
    "        self.hl = healing\n",
    "        \n",
    "    #method describes the overall power information and details of the hero\n",
    "    def __str__(self):\n",
    "        return f\"\\n---About Hero---\\n Hero:'{self.nm}' \\n Power:'{self.pl}' \\n Health:'{self.hp}' \\n Special Skill:'{self.sk}' \\n Skill Power:'{self.sp}' \\n Healing Power:'{self.hl}'\"\n",
    "        \n",
    "    #method to perform special skill attacks on monsters\n",
    "    def attack(self, monster): #passing monster parameters\n",
    "        #notifying hero attacked monster with his special skill\n",
    "        print(f\"\\n'{self.nm}' attacked '{monster.nm}' with his special '{self.sk}' skill\")\n",
    "        \n",
    "        #hero's attack power \n",
    "        attack_power = self.punch_power() * self.sp #hero's punch power * hero's special skill power (a float value)\n",
    "        monster.hp -= attack_power #performs the attack by reducing the attack_power from monsters health point\n",
    "        \n",
    "        #notifying monsters name and health point status\n",
    "        print(f\"After the fight, with '{self.nm}' attacking power:'{attack_power}', '{monster.nm}' health is now '{monster.hp}'\")\n",
    "\n",
    "    #method to hael the hero during combat\n",
    "    def defence(self):\n",
    "        self.hp += self.hl #healing the hero by adding the healing value to hero's health points\n",
    "        #notifying hero's health point status after healing used\n",
    "        return f\"'{self.nm}' used the healing power and the health is now '{self.hp}'\""
   ]
  },
  {
   "cell_type": "markdown",
   "id": "f4bba984-bdd1-4663-bccb-9182d7b14151",
   "metadata": {},
   "source": [
    "Monster class -> represents monsters or enimies"
   ]
  },
  {
   "cell_type": "code",
   "execution_count": 11,
   "id": "59cfff39-2e45-4389-b1cc-ad26b3d5f143",
   "metadata": {},
   "outputs": [],
   "source": [
    "#class that represents monster\n",
    "class Monsters:\n",
    "    def __init__(self, name, strength, health_points, roar): #constructor\n",
    "        #Initializing Monster attributes\n",
    "        self.nm = name\n",
    "        self.srng = strength\n",
    "        self.hp = health_points\n",
    "        self.rr = roar\n",
    "        \n",
    "        #notyfying a monster created and its roars\n",
    "        print(f\"\\nThe monster named '{self.nm}' created, its sounds '{self.rr}'\")\n",
    "        \n",
    "    #method describes the overall information and details of the Monster\n",
    "    def __str__(self):\n",
    "        return f\"\\n---About Monster---\\n Monster:'{self.nm}' \\n Strength:'{self.srng}' \\n Health:'{self.hp}' \\n Roar:'{self.rr}'\"\n",
    "\n",
    "    #method to perform attacks on hero\n",
    "    def attack(self, hero): #passing hero parameters\n",
    "        #notifying monster attacked hero \n",
    "        print(f\"\\n'{self.nm}' Strick back at '{hero.nm}'\")\n",
    "        #performs the attack by reducing the monster strength from hero health point\n",
    "        hero.hp -= self.srng\n",
    "        #notifying hero health point status\n",
    "        print(f\" After the fight, '{hero.nm}' health is now '{hero.hp}'\")\n",
    "\n",
    "    #using operator overloading, combine two monsters and create a new monster\n",
    "    #__add__() magic method, defines the '+' operator when used with objects.\n",
    "    def __add__(self, monster2): #passing 2nd monster parametes to create a new monster\n",
    "        #using slicing to extract a new name for the 3rd mmonster\n",
    "        #performing concatenation\n",
    "        monster3_name = self.nm[:3] +  monster2.nm[:3]  #takes the first 3 letter from both monsters\n",
    "        monster3_strength = self.srng * monster2.srng #assigning multiplied strength to 3rd monster strength\n",
    "        monster3_health_points = self.hp + monster2.hp #assigning a summed health points from both monsters to 3rd monster\n",
    "        monster3_roar = self.rr + monster2.rr + '!!!!!!' #concatenating both monsters roar and setting that to the 3rd monster roar\n",
    "        return Monsters(monster3_name, monster3_strength, monster3_health_points, monster3_roar) #returns and pass these values to the Monster class at the input time"
   ]
  },
  {
   "cell_type": "markdown",
   "id": "a5fba787-63c6-4a28-b5ef-375095a131b2",
   "metadata": {},
   "source": [
    "Hero & Monster Creation using User inputs"
   ]
  },
  {
   "cell_type": "markdown",
   "id": "db715be4-2100-45bf-a145-415a7604a489",
   "metadata": {},
   "source": [
    "try-except for error handling "
   ]
  },
  {
   "cell_type": "markdown",
   "id": "e42af826-0efa-4173-be1e-3cb48bba2386",
   "metadata": {},
   "source": [
    "strip() - removes the extra white space"
   ]
  },
  {
   "cell_type": "markdown",
   "id": "ca9d3232-24f2-43c8-8e56-6d36270180f5",
   "metadata": {},
   "source": [
    "'hero' is an instance (object) of the SuperHero class that extended from Hero class."
   ]
  },
  {
   "cell_type": "markdown",
   "id": "ff456b7c-ed21-42a0-bc61-c62f188a6e2a",
   "metadata": {},
   "source": [
    "'monster1' and 'monster2' is an instance of Monster class"
   ]
  },
  {
   "cell_type": "markdown",
   "id": "d3d909e7-a9e9-4e6b-a64d-b0eb3168d48e",
   "metadata": {},
   "source": [
    "lower() - returns lowercase string "
   ]
  },
  {
   "cell_type": "markdown",
   "id": "9b4ab65f-59c3-441f-8f67-ee00c9f99bef",
   "metadata": {},
   "source": [
    "upper() - convert lowercase charecter into uppercase character"
   ]
  },
  {
   "cell_type": "code",
   "execution_count": 20,
   "id": "9eb3732c-b3f1-4275-857d-a59a905078f4",
   "metadata": {
    "scrolled": true
   },
   "outputs": [
    {
     "name": "stdout",
     "output_type": "stream",
     "text": [
      "\n",
      "===Welcome to the Combat Game===\n",
      " ---HERO vs MONSTER---\n"
     ]
    },
    {
     "name": "stdout",
     "output_type": "stream",
     "text": [
      "Name your Hero (ex: Iron Man, Batman, etc.):  batman\n",
      "Choose hero's power (1.ROOKIE, 2.VETERAN, 3.ELITE):  3\n",
      "Name Your Hero's special skill (ex: Weapons, Armor, etc.):  batspell\n"
     ]
    },
    {
     "name": "stdout",
     "output_type": "stream",
     "text": [
      "\n",
      "---About Hero---\n",
      " Hero:'BATMAN' \n",
      " Power:'10' \n",
      " Health:'100' \n",
      " Special Skill:'BATSPELL' \n",
      " Skill Power:'1.5' \n",
      " Healing Power:'10'\n",
      " Punch Power: '20'\n",
      "\n"
     ]
    },
    {
     "name": "stdout",
     "output_type": "stream",
     "text": [
      "Name the first monster (ex: Predator, Zombies, etc.):  jocker\n",
      "Enter the monster roar (ex: Grrr, Harr, etc.):  jrrrr\n"
     ]
    },
    {
     "name": "stdout",
     "output_type": "stream",
     "text": [
      "\n",
      "The monster named 'JOCKER' created, its sounds 'JRRRR'\n",
      "\n",
      "---About Monster---\n",
      " Monster:'JOCKER' \n",
      " Strength:'4' \n",
      " Health:'60' \n",
      " Roar:'JRRRR'\n"
     ]
    },
    {
     "name": "stdout",
     "output_type": "stream",
     "text": [
      "Name the second monster (ex: Predator, Zombies, etc.):  supreme\n",
      "Enter the monster roar (ex: Grrr, Harr, etc.):  srrrr\n"
     ]
    },
    {
     "name": "stdout",
     "output_type": "stream",
     "text": [
      "\n",
      "The monster named 'SUPREME' created, its sounds 'SRRRR'\n",
      "\n",
      "---About Monster---\n",
      " Monster:'SUPREME' \n",
      " Strength:'5' \n",
      " Health:'80' \n",
      " Roar:'SRRRR'\n",
      "\n",
      "The monster named 'JOCSUP' created, its sounds 'JRRRRSRRRR!!!!!!'\n",
      "\n",
      "New monster created from 'JOCKER' + 'SUPREME' \n",
      " \n",
      "---About Monster---\n",
      " Monster:'JOCSUP' \n",
      " Strength:'20' \n",
      " Health:'140' \n",
      " Roar:'JRRRRSRRRR!!!!!!'\n",
      "\n",
      "'BATMAN' is now fighting 'JOCKER'!\n",
      "\n",
      "'BATMAN' attacked 'JOCKER' with his special 'BATSPELL' skill\n",
      "After the fight, with 'BATMAN' attacking power:'30.0', 'JOCKER' health is now '30.0'\n",
      "\n",
      "'JOCKER' Strick back at 'BATMAN'\n",
      " After the fight, 'BATMAN' health is now '96'\n",
      "'BATMAN' used the healing power and the health is now '106'\n",
      "\n",
      "'BATMAN' attacked 'JOCKER' with his special 'BATSPELL' skill\n",
      "After the fight, with 'BATMAN' attacking power:'30.0', 'JOCKER' health is now '0.0'\n",
      "\n",
      "======'BATMAN' WINS!!! 'JOCKER' LOSES THE COMBAT!!!======\n",
      "\n",
      "'BATMAN' is now fighting 'SUPREME'!\n",
      "\n",
      "'BATMAN' attacked 'SUPREME' with his special 'BATSPELL' skill\n",
      "After the fight, with 'BATMAN' attacking power:'30.0', 'SUPREME' health is now '50.0'\n",
      "\n",
      "'SUPREME' Strick back at 'BATMAN'\n",
      " After the fight, 'BATMAN' health is now '101'\n",
      "\n",
      "'BATMAN' attacked 'SUPREME' with his special 'BATSPELL' skill\n",
      "After the fight, with 'BATMAN' attacking power:'30.0', 'SUPREME' health is now '20.0'\n",
      "\n",
      "'SUPREME' Strick back at 'BATMAN'\n",
      " After the fight, 'BATMAN' health is now '96'\n",
      "\n",
      "'BATMAN' attacked 'SUPREME' with his special 'BATSPELL' skill\n",
      "After the fight, with 'BATMAN' attacking power:'30.0', 'SUPREME' health is now '-10.0'\n",
      "\n",
      "======'BATMAN' WINS!!! 'SUPREME' LOSES THE COMBAT!!!======\n",
      "\n",
      "'BATMAN' is now fighting 'JOCSUP'!\n",
      "\n",
      "'BATMAN' attacked 'JOCSUP' with his special 'BATSPELL' skill\n",
      "After the fight, with 'BATMAN' attacking power:'30.0', 'JOCSUP' health is now '110.0'\n",
      "\n",
      "'JOCSUP' Strick back at 'BATMAN'\n",
      " After the fight, 'BATMAN' health is now '76'\n",
      "'BATMAN' used the healing power and the health is now '86'\n",
      "\n",
      "'BATMAN' attacked 'JOCSUP' with his special 'BATSPELL' skill\n",
      "After the fight, with 'BATMAN' attacking power:'30.0', 'JOCSUP' health is now '80.0'\n",
      "\n",
      "'JOCSUP' Strick back at 'BATMAN'\n",
      " After the fight, 'BATMAN' health is now '66'\n",
      "'BATMAN' used the healing power and the health is now '76'\n",
      "\n",
      "'BATMAN' attacked 'JOCSUP' with his special 'BATSPELL' skill\n",
      "After the fight, with 'BATMAN' attacking power:'30.0', 'JOCSUP' health is now '50.0'\n",
      "\n",
      "'JOCSUP' Strick back at 'BATMAN'\n",
      " After the fight, 'BATMAN' health is now '56'\n",
      "'BATMAN' used the healing power and the health is now '66'\n",
      "\n",
      "'BATMAN' attacked 'JOCSUP' with his special 'BATSPELL' skill\n",
      "After the fight, with 'BATMAN' attacking power:'30.0', 'JOCSUP' health is now '20.0'\n",
      "\n",
      "'JOCSUP' Strick back at 'BATMAN'\n",
      " After the fight, 'BATMAN' health is now '46'\n",
      "\n",
      "'BATMAN' attacked 'JOCSUP' with his special 'BATSPELL' skill\n",
      "After the fight, with 'BATMAN' attacking power:'30.0', 'JOCSUP' health is now '-10.0'\n",
      "\n",
      "======'BATMAN' WINS!!! 'JOCSUP' LOSES THE COMBAT!!!======\n"
     ]
    },
    {
     "name": "stdout",
     "output_type": "stream",
     "text": [
      "Would you like to play again (Y|N):-  y  \n"
     ]
    },
    {
     "name": "stdout",
     "output_type": "stream",
     "text": [
      "\n",
      "===Welcome to the Combat Game===\n",
      " ---HERO vs MONSTER---\n"
     ]
    },
    {
     "name": "stdout",
     "output_type": "stream",
     "text": [
      "Name your Hero (ex: Iron Man, Batman, etc.):  batman\n",
      "Choose hero's power (1.ROOKIE, 2.VETERAN, 3.ELITE):  3\n",
      "Name Your Hero's special skill (ex: Weapons, Armor, etc.):  batspell\n"
     ]
    },
    {
     "name": "stdout",
     "output_type": "stream",
     "text": [
      "\n",
      "---About Hero---\n",
      " Hero:'BATMAN' \n",
      " Power:'10' \n",
      " Health:'100' \n",
      " Special Skill:'BATSPELL' \n",
      " Skill Power:'1.5' \n",
      " Healing Power:'10'\n",
      " Punch Power: '20'\n",
      "\n"
     ]
    },
    {
     "name": "stdout",
     "output_type": "stream",
     "text": [
      "Name the first monster (ex: Predator, Zombies, etc.):  jocker\n",
      "Enter the monster roar (ex: Grrr, Harr, etc.):  jrrr\n"
     ]
    },
    {
     "name": "stdout",
     "output_type": "stream",
     "text": [
      "\n",
      "The monster named 'JOCKER' created, its sounds 'JRRR'\n",
      "\n",
      "---About Monster---\n",
      " Monster:'JOCKER' \n",
      " Strength:'4' \n",
      " Health:'60' \n",
      " Roar:'JRRR'\n"
     ]
    },
    {
     "name": "stdout",
     "output_type": "stream",
     "text": [
      "Name the second monster (ex: Predator, Zombies, etc.):  supreme\n",
      "Enter the monster roar (ex: Grrr, Harr, etc.):  srrr\n"
     ]
    },
    {
     "name": "stdout",
     "output_type": "stream",
     "text": [
      "\n",
      "The monster named 'SUPREME' created, its sounds 'SRRR'\n",
      "\n",
      "---About Monster---\n",
      " Monster:'SUPREME' \n",
      " Strength:'5' \n",
      " Health:'80' \n",
      " Roar:'SRRR'\n",
      "\n",
      "The monster named 'JOCSUP' created, its sounds 'JRRRSRRR!!!!!!'\n",
      "\n",
      "New monster created from 'JOCKER' + 'SUPREME' \n",
      " \n",
      "---About Monster---\n",
      " Monster:'JOCSUP' \n",
      " Strength:'20' \n",
      " Health:'140' \n",
      " Roar:'JRRRSRRR!!!!!!'\n",
      "\n",
      "'BATMAN' is now fighting 'JOCKER'!\n",
      "\n",
      "'BATMAN' attacked 'JOCKER' with his special 'BATSPELL' skill\n",
      "After the fight, with 'BATMAN' attacking power:'30.0', 'JOCKER' health is now '30.0'\n",
      "\n",
      "'JOCKER' Strick back at 'BATMAN'\n",
      " After the fight, 'BATMAN' health is now '96'\n",
      "\n",
      "'BATMAN' attacked 'JOCKER' with his special 'BATSPELL' skill\n",
      "After the fight, with 'BATMAN' attacking power:'30.0', 'JOCKER' health is now '0.0'\n",
      "\n",
      "======'BATMAN' WINS!!! 'JOCKER' LOSES THE COMBAT!!!======\n",
      "\n",
      "'BATMAN' is now fighting 'SUPREME'!\n",
      "\n",
      "'BATMAN' attacked 'SUPREME' with his special 'BATSPELL' skill\n",
      "After the fight, with 'BATMAN' attacking power:'30.0', 'SUPREME' health is now '50.0'\n",
      "\n",
      "'SUPREME' Strick back at 'BATMAN'\n",
      " After the fight, 'BATMAN' health is now '91'\n",
      "\n",
      "'BATMAN' attacked 'SUPREME' with his special 'BATSPELL' skill\n",
      "After the fight, with 'BATMAN' attacking power:'30.0', 'SUPREME' health is now '20.0'\n",
      "\n",
      "'SUPREME' Strick back at 'BATMAN'\n",
      " After the fight, 'BATMAN' health is now '86'\n",
      "'BATMAN' used the healing power and the health is now '96'\n",
      "\n",
      "'BATMAN' attacked 'SUPREME' with his special 'BATSPELL' skill\n",
      "After the fight, with 'BATMAN' attacking power:'30.0', 'SUPREME' health is now '-10.0'\n",
      "\n",
      "======'BATMAN' WINS!!! 'SUPREME' LOSES THE COMBAT!!!======\n",
      "\n",
      "'BATMAN' is now fighting 'JOCSUP'!\n",
      "\n",
      "'BATMAN' attacked 'JOCSUP' with his special 'BATSPELL' skill\n",
      "After the fight, with 'BATMAN' attacking power:'30.0', 'JOCSUP' health is now '110.0'\n",
      "\n",
      "'JOCSUP' Strick back at 'BATMAN'\n",
      " After the fight, 'BATMAN' health is now '76'\n",
      "'BATMAN' used the healing power and the health is now '86'\n",
      "\n",
      "'BATMAN' attacked 'JOCSUP' with his special 'BATSPELL' skill\n",
      "After the fight, with 'BATMAN' attacking power:'30.0', 'JOCSUP' health is now '80.0'\n",
      "\n",
      "'JOCSUP' Strick back at 'BATMAN'\n",
      " After the fight, 'BATMAN' health is now '66'\n",
      "'BATMAN' used the healing power and the health is now '76'\n",
      "\n",
      "'BATMAN' attacked 'JOCSUP' with his special 'BATSPELL' skill\n",
      "After the fight, with 'BATMAN' attacking power:'30.0', 'JOCSUP' health is now '50.0'\n",
      "\n",
      "'JOCSUP' Strick back at 'BATMAN'\n",
      " After the fight, 'BATMAN' health is now '56'\n",
      "'BATMAN' used the healing power and the health is now '66'\n",
      "\n",
      "'BATMAN' attacked 'JOCSUP' with his special 'BATSPELL' skill\n",
      "After the fight, with 'BATMAN' attacking power:'30.0', 'JOCSUP' health is now '20.0'\n",
      "\n",
      "'JOCSUP' Strick back at 'BATMAN'\n",
      " After the fight, 'BATMAN' health is now '46'\n",
      "\n",
      "'BATMAN' attacked 'JOCSUP' with his special 'BATSPELL' skill\n",
      "After the fight, with 'BATMAN' attacking power:'30.0', 'JOCSUP' health is now '-10.0'\n",
      "\n",
      "======'BATMAN' WINS!!! 'JOCSUP' LOSES THE COMBAT!!!======\n"
     ]
    },
    {
     "name": "stdout",
     "output_type": "stream",
     "text": [
      "Would you like to play again (Y|N):-  n\n"
     ]
    },
    {
     "name": "stdout",
     "output_type": "stream",
     "text": [
      "\n",
      "======Thank You for Playing====== \n",
      " created by: Rohit Joseph\n"
     ]
    }
   ],
   "source": [
    "#hero creation with user input and validation\n",
    "while True:\n",
    "    try:\n",
    "        print(\"\\n===Welcome to the Combat Game===\\n ---HERO vs MONSTER---\")\n",
    "        \n",
    "        #using try-except for error handling \n",
    "        while True:\n",
    "            try: #testing the above block of code\n",
    "                #collect and store hero details from the user\n",
    "                \n",
    "                hero_name = input(\"Name your Hero (ex: Iron Man, Batman, etc.): \").strip().upper() \n",
    "                if not hero_name: #check and raise an error msg if an empty input occures\n",
    "                    raise ValueError(\"Hero name cannot be empty.\")\n",
    "                    \n",
    "                hero_power_level = int(input(\"Choose hero's power (1.ROOKIE, 2.VETERAN, 3.ELITE): \"))\n",
    "                if hero_power_level not in [1, 2, 3]: #check and raise an error msg if a wrong input occurs other than 1,2,3\n",
    "                    raise ValueError(\"Power level must be 1, 2, or 3.\")\n",
    "                    \n",
    "                hero_skill = input(\"Name Your Hero's special skill (ex: Weapons, Armor, etc.): \").strip().upper() \n",
    "                if not hero_skill:#check and raise an error msg if an empty input occurs\n",
    "                    raise ValueError(\"Hero skill cannot be empty.\")\n",
    "                    \n",
    "                #assigning default attributes based on the hero power level to balance the game\n",
    "                if hero_power_level == 1: #checks the user input is 1\n",
    "                    #default values for ROOKIE (Easy level)\n",
    "                    hero_power_level = 4  \n",
    "                    hero_health_points = 40\n",
    "                    hero_skill_power = 1.0\n",
    "                    healing_power = 4\n",
    "                    \n",
    "                elif hero_power_level == 2: #checks the user input is 2\n",
    "                    #default values for VETERAN (Medium level)\n",
    "                    hero_power_level = 6  \n",
    "                    hero_health_points = 60\n",
    "                    hero_skill_power = 1.25\n",
    "                    healing_power = 6\n",
    "                    \n",
    "                elif hero_power_level == 3: #checks the user input is 3\n",
    "                    #default values for ELITE (Hard level)\n",
    "                    hero_power_level = 10  \n",
    "                    hero_health_points = 100\n",
    "                    hero_skill_power = 1.5\n",
    "                    healing_power = 10\n",
    "        \n",
    "                #creating hero instance and passing the arguments to the SuperHero class\n",
    "                hero = SuperHero(hero_name, hero_power_level, hero_health_points, hero_skill, hero_skill_power, healing_power)\n",
    "                print(hero) #prints the hero object\n",
    "                #Print the punch power of the hero by calling the punch_power() method.\n",
    "                print(f\" Punch Power: '{hero.punch_power()}'\\n\")\n",
    "                \n",
    "                break #when the above condition is met it will break the loop\n",
    "        \n",
    "            except ValueError as e: #raise ValueError when an inappropriate values occurs \n",
    "                print(f\"Invalid input: {e}. Please try again.\")\n",
    "        \n",
    "        \n",
    "        #Monster1 creation with user input and validation\n",
    "        while True:\n",
    "            try:\n",
    "                #collect and store the first monster details from the user\n",
    "                monster1_name = input(\"Name the first monster (ex: Predator, Zombies, etc.): \").strip().upper() \n",
    "                if not monster1_name:#check and raise an error msg if an empty input occurs\n",
    "                        raise ValueError(\"Monster name cannot be empty.\")\n",
    "                    \n",
    "                monster1_roar = input(\"Enter the monster roar (ex: Grrr, Harr, etc.): \").strip().upper() \n",
    "                if not monster1_roar:#check and raise an error msg if an empty input occurs\n",
    "                        raise ValueError(\"Monster roar cannot be empty.\")\n",
    "        \n",
    "                #assigning default attributes in monster strength and health points to balance the game\n",
    "                monster1_strength = 4\n",
    "                monster1_health_points = 60\n",
    "                \n",
    "                #creating monster1 instance and passing the arguments to the Monster class\n",
    "                monster1 = Monsters(monster1_name, monster1_strength, monster1_health_points, monster1_roar)\n",
    "                print(monster1) #prints the monster1 object\n",
    "                \n",
    "        #Monster1 creation with user input and validation\n",
    "                #collect and store the second monster details from the user\n",
    "                monster2_name = input(\"Name the second monster (ex: Predator, Zombies, etc.): \").strip().upper()\n",
    "                if not monster2_name:#check and raise an error msg if an empty input occurs\n",
    "                    raise ValueError(\"Monster name cannot be empty.\")\n",
    "                    \n",
    "                monster2_roar = input(\"Enter the monster roar (ex: Grrr, Harr, etc.): \").strip().upper()\n",
    "                if not monster2_roar:#check and raise an error msg if an empty input occurs\n",
    "                    raise ValueError(\"Monster roar cannot be empty.\")\n",
    "        \n",
    "                #assigning default attributes in monster strength and health points to balance the game\n",
    "                monster2_strength = 5\n",
    "                monster2_health_points = 80\n",
    "                \n",
    "                #creating monster2 instance and passing the arguments to the Monster class\n",
    "                monster2 = Monsters(monster2_name, monster2_strength, monster2_health_points, monster2_roar)\n",
    "                print(monster2) #prints the monster2 object\n",
    "                \n",
    "                break #when the above condition is met it will break the loop\n",
    "            \n",
    "            except ValueError as e: #raise ValueError when an inappropriate values occurs \n",
    "                print(f\"Invalid input: {e}. Please try again.\")\n",
    "                \n",
    "                \n",
    "        #creating the 3rd monster by combining 2 monsters\n",
    "        monster3 = monster1 + monster2\n",
    "        #notifying new monster created from two other monsters\n",
    "        print(f\"\\nNew monster created from '{monster1_name}' + '{monster2_name}' \\n {monster3}\")\n",
    "        \n",
    "        #creating a list all_monsters containing all three monsters\n",
    "        all_monsters = [monster1, monster2, monster3]\n",
    "        \n",
    "        #using object notation and initiate the hero vs monster fight by calling the combat method of the hero object\n",
    "        #passing all_monsters will allow the hero to fight with all 3 monsters\n",
    "        hero.combat(all_monsters)\n",
    "        \n",
    "    except:  #this will handle any unforeseen errors\n",
    "        print(f\"An error occurred\")\n",
    "\n",
    "    play_again = input(\"Would you like to play again (Y|N):- \").strip().lower()\n",
    "    if play_again != 'y': #checking the user input is not equal to 'y'\n",
    "        print(\"\\n======Thank You for Playing====== \\n created by: Rohit Joseph\")\n",
    "        break #exit the loop if the user doesn't want to play again"
   ]
  },
  {
   "cell_type": "code",
   "execution_count": null,
   "id": "5e544b29-a6a6-4c1c-8bcb-20d51a890736",
   "metadata": {},
   "outputs": [],
   "source": []
  }
 ],
 "metadata": {
  "kernelspec": {
   "display_name": "Python 3 (ipykernel)",
   "language": "python",
   "name": "python3"
  },
  "language_info": {
   "codemirror_mode": {
    "name": "ipython",
    "version": 3
   },
   "file_extension": ".py",
   "mimetype": "text/x-python",
   "name": "python",
   "nbconvert_exporter": "python",
   "pygments_lexer": "ipython3",
   "version": "3.12.4"
  }
 },
 "nbformat": 4,
 "nbformat_minor": 5
}
